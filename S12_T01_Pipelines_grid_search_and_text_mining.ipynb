{
 "cells": [
  {
   "cell_type": "markdown",
   "metadata": {},
   "source": [
    "S12 T01: Pipelines, grid search i text mining\n",
    "\n",
    "# Statement\n",
    "Let's start getting familiar with Pipelines, grid search and text mining !!!! Let's start with some basic exercises\n",
    "\n",
    "Level 1\n",
    "\n",
    "- Exercise 1\n",
    "\n",
    "Take the dataset you prefer and perform a pipeline and a gridsearch applying the Random Forest algorithm.\n",
    "\n",
    "- Exercise 2\n",
    "\n",
    "Take any English text you choose, and calculate the frequency of the words.\n",
    "\n",
    "Level 2\n",
    "\n",
    "- Exercise 1\n",
    "\n",
    "Find the stopwords and perform stemming on your dataset.\n",
    "\n",
    "Level 3\n",
    "\n",
    "- Exercise 1\n",
    "\n",
    "Perform sentiment analysis on your set of words.\n",
    "\n",
    "Resources\n",
    "Classroom resources and <https://www.nltk.org>"
   ]
  },
  {
   "cell_type": "markdown",
   "metadata": {},
   "source": [
    "# Preprocessing"
   ]
  },
  {
   "cell_type": "code",
   "execution_count": 2,
   "metadata": {},
   "outputs": [],
   "source": [
    "# Import libraries\n",
    "import pandas as pd\n",
    "import numpy as np\n",
    "from sklearn.model_selection import cross_val_score\n",
    "from sklearn.ensemble import RandomForestRegressor"
   ]
  },
  {
   "cell_type": "code",
   "execution_count": 3,
   "metadata": {},
   "outputs": [],
   "source": [
    "# settings to display all columns (default is 20, now is None (all))\n",
    "pd.set_option(\"display.max_columns\", None)"
   ]
  },
  {
   "cell_type": "code",
   "execution_count": 4,
   "metadata": {},
   "outputs": [],
   "source": [
    "# Import cleaned and sampled train an test dataset from previous Task.\n",
    "df_train = pd.read_csv('..\\data\\DelayedFlights_train.csv')\n",
    "df_test  = pd.read_csv('..\\data\\DelayedFlights_test.csv')"
   ]
  },
  {
   "cell_type": "markdown",
   "metadata": {},
   "source": [
    "### Explanation of the Train / Test Sample \n",
    "* Is imported from previous Task (S09T01).  \n",
    "* Is 1% of the original dataset, randomly sampled and stratified by Airline.\n",
    "* Is parted 33% test and 66% train."
   ]
  },
  {
   "cell_type": "code",
   "execution_count": 5,
   "metadata": {},
   "outputs": [],
   "source": [
    "# Let's delete the first column\n",
    "df_train = df_train.drop(columns='Unnamed: 0')\n",
    "df_test  = df_test.drop(columns='Unnamed: 0')"
   ]
  },
  {
   "cell_type": "markdown",
   "metadata": {},
   "source": [
    "### Deletion of DepDelay attribute \n"
   ]
  },
  {
   "cell_type": "code",
   "execution_count": 6,
   "metadata": {},
   "outputs": [],
   "source": [
    "# Let's delete the first column\n",
    "df_train = df_train.drop(columns='DepDelay')\n",
    "df_test  = df_test.drop(columns='DepDelay')"
   ]
  },
  {
   "cell_type": "markdown",
   "metadata": {},
   "source": [
    "### Concatenation Train / Test sets."
   ]
  },
  {
   "cell_type": "code",
   "execution_count": 7,
   "metadata": {},
   "outputs": [
    {
     "data": {
      "text/plain": [
       "(19283, 33)"
      ]
     },
     "execution_count": 7,
     "metadata": {},
     "output_type": "execute_result"
    }
   ],
   "source": [
    "#Let's concatenate df_train & df_test\n",
    "df_complete = pd.concat([df_train,df_test])\n",
    "df_complete.shape"
   ]
  },
  {
   "cell_type": "code",
   "execution_count": 8,
   "metadata": {},
   "outputs": [
    {
     "data": {
      "text/plain": [
       "pandas.core.arrays.numpy_.PandasArray"
      ]
     },
     "execution_count": 8,
     "metadata": {},
     "output_type": "execute_result"
    }
   ],
   "source": [
    "# Our Y or Target is ArrDelay:\n",
    "y = df_complete.ArrDelay\n",
    "y = y.array # Convert pandas series to numpy array\n",
    "type(y)"
   ]
  },
  {
   "cell_type": "code",
   "execution_count": 9,
   "metadata": {},
   "outputs": [
    {
     "data": {
      "text/plain": [
       "numpy.ndarray"
      ]
     },
     "execution_count": 9,
     "metadata": {},
     "output_type": "execute_result"
    }
   ],
   "source": [
    "# Our X now is going to be all the columns in df_complete except ArrDelay and Date (also the OHE of Airline)\n",
    "X = df_complete.drop(columns=[\"ArrDelay\",\"Date\"])\n",
    "feature_list = list(X.columns) # Saving feature names for later use\n",
    "X = X.to_numpy() # Convert dataframe to array\n",
    "type(X)"
   ]
  },
  {
   "cell_type": "markdown",
   "metadata": {},
   "source": [
    "# Level 1\n",
    "\n",
    "## - Exercise 1 - Random Forest Regression\n",
    "\n",
    "Take the dataset you prefer and perform a pipeline and a gridsearch applying the Random Forest algorithm.\n",
    "\n",
    "We are going to use the Delayed Flights dataset, without feature DepDelay.\n",
    "\n",
    "First, let's calculate the Accuracy of Random Forest model with default parameters."
   ]
  },
  {
   "cell_type": "code",
   "execution_count": 10,
   "metadata": {},
   "outputs": [
    {
     "name": "stdout",
     "output_type": "stream",
     "text": [
      "coefficient of determination with all data: 0.993\n"
     ]
    }
   ],
   "source": [
    "# Instantiate model with 100 decision trees\n",
    "model3 = RandomForestRegressor(n_estimators = 100, random_state = 42)\n",
    "# Train the model on training data\n",
    "model3.fit(X, y)\n",
    "# Calculate R2 to see the accuracy of the model with all data.\n",
    "r_sq_train3 = model3.score(X,y)\n",
    "print('coefficient of determination with all data: %.3f' %r_sq_train3)"
   ]
  },
  {
   "cell_type": "code",
   "execution_count": 11,
   "metadata": {},
   "outputs": [
    {
     "name": "stdout",
     "output_type": "stream",
     "text": [
      "Random Forest Regression:\n",
      " Accuracy with train data: 0.948 +/-   0 \n",
      "\n"
     ]
    }
   ],
   "source": [
    "# Applying k-Fold Cross Validation (CV) with all data\n",
    "accuracies3 = cross_val_score(estimator = model3, X=X, y=y , cv = 10) # default\n",
    "print(\"Random Forest Regression:\\n Accuracy with train data: %.3f\"%accuracies3.mean(), \"+/- %3.f\"%accuracies3.std(),\"\\n\")"
   ]
  },
  {
   "cell_type": "markdown",
   "metadata": {},
   "source": [
    "The Random Forest Model, with n_estimators = 100 (default), has an accuracy of 0.948 (quite good)  \n",
    "\n",
    "Let's try to increase the Cross Validation Accuracy by tuning parameters with GridSearch and Pipeline.\n",
    "\n",
    "Definition of <pipeline> class according to scikit-learn is:   \n",
    ">*Sequentially apply a list of transforms and a final estimator.*  \n",
    ">*Intermediate steps of pipeline must implement fit and transform methods and the final estimator only needs to implement fit.*    "
   ]
  },
  {
   "cell_type": "markdown",
   "metadata": {},
   "source": [
    "### Observation 3.\n",
    "* Now we can really know if the random forest regression model is good or not!\n",
    "* And the answer is that is very good! With test data, the $R^2$ is 0.927 and the accuracy of the Cross Validation is quite good (0.865 +/- 0.059).\n",
    "* The explanation now is that, even without the DepDelay variable, the random forest model can predict test data with good accuracy."
   ]
  },
  {
   "cell_type": "markdown",
   "metadata": {},
   "source": [
    "\n",
    "## - Exercise 2\n",
    "\n",
    "Take any English text you choose, and calculate the frequency of the words.\n"
   ]
  },
  {
   "cell_type": "markdown",
   "metadata": {},
   "source": [
    "\n",
    "# Level 2 \n",
    "\n",
    "## - Exercise 1\n",
    "\n",
    "Find the stopwords and perform stemming on your dataset.\n"
   ]
  },
  {
   "cell_type": "markdown",
   "metadata": {},
   "source": [
    "\n",
    "# Level 3\n",
    "\n",
    "## - Exercise 1\n",
    "\n",
    "Perform sentiment analysis on your set of words."
   ]
  }
 ],
 "metadata": {
  "interpreter": {
   "hash": "494e690407c5c7c9b2fbc0a1227ada2e3d821eefed538763ba3356ad470e06f1"
  },
  "kernelspec": {
   "display_name": "Python 3.9.7 ('base')",
   "language": "python",
   "name": "python3"
  },
  "language_info": {
   "codemirror_mode": {
    "name": "ipython",
    "version": 3
   },
   "file_extension": ".py",
   "mimetype": "text/x-python",
   "name": "python",
   "nbconvert_exporter": "python",
   "pygments_lexer": "ipython3",
   "version": "3.9.7"
  },
  "orig_nbformat": 4
 },
 "nbformat": 4,
 "nbformat_minor": 2
}
