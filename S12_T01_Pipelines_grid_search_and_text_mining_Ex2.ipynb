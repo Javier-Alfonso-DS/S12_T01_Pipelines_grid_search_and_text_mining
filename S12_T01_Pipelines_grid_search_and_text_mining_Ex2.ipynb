{
 "cells": [
  {
   "cell_type": "markdown",
   "metadata": {},
   "source": [
    "S12 T01.Ex2: Pipelines, grid search i text mining\n",
    "\n",
    "Level 1\n",
    "\n",
    "- Exercise 2\n",
    "\n",
    "Take any English text you choose, and calculate the frequency of the words.\n",
    "\n",
    "Level 2\n",
    "\n",
    "- Exercise 1\n",
    "\n",
    "Find the stopwords and perform stemming on your dataset.\n",
    "\n",
    "Level 3\n",
    "\n",
    "- Exercise 1\n",
    "\n",
    "Perform sentiment analysis on your set of words.\n",
    "\n",
    "Resources\n",
    "Classroom resources and <https://www.nltk.org>"
   ]
  },
  {
   "cell_type": "markdown",
   "metadata": {},
   "source": [
    "\n",
    "## - Exercise 2\n",
    "\n",
    "Take any English text you choose, and calculate the frequency of the words.\n",
    "\n",
    "We are going to take the Synopsis of the \"Red\" Movie from IMDB web.\n",
    "\n",
    "It's on file \"Red_Movie_Synopsis.txt\""
   ]
  },
  {
   "cell_type": "code",
   "execution_count": 15,
   "metadata": {},
   "outputs": [
    {
     "name": "stderr",
     "output_type": "stream",
     "text": [
      "[nltk_data] Downloading package punkt to\n",
      "[nltk_data]     C:\\Users\\jalor\\AppData\\Roaming\\nltk_data...\n",
      "[nltk_data]   Package punkt is already up-to-date!\n",
      "[nltk_data] Downloading package stopwords to\n",
      "[nltk_data]     C:\\Users\\jalor\\AppData\\Roaming\\nltk_data...\n",
      "[nltk_data]   Unzipping corpora\\stopwords.zip.\n"
     ]
    }
   ],
   "source": [
    "# Import libraries\n",
    "import pandas as pd\n",
    "import numpy as np\n",
    "import seaborn as sns\n",
    "import matplotlib as plt\n",
    "\n",
    "#Loading NLTK\n",
    "import nltk\n",
    "nltk.download('punkt')\n",
    "nltk.download('stopwords')\n",
    "from nltk.tokenize import sent_tokenize\n",
    "from nltk.tokenize import word_tokenize\n",
    "\n",
    "# Stemming\n",
    "from nltk.stem import PorterStemmer\n",
    "from nltk.tokenize import sent_tokenize, word_tokenize"
   ]
  },
  {
   "cell_type": "markdown",
   "metadata": {},
   "source": [
    "### Tokenize text into lines"
   ]
  },
  {
   "cell_type": "code",
   "execution_count": 8,
   "metadata": {},
   "outputs": [
    {
     "name": "stdout",
     "output_type": "stream",
     "text": [
      "['In 2002, Meilin \"Mei\" Lee is a 13-year-old Chinese-Canadian girl living in Toronto.', \"She helps take care of the family's temple dedicated to their ancestor, Sun Yee, and works to make her strict, overprotective mother Ming proud.\", 'Mei hides her personal interests from Ming, such as the fact that she and her best friends Miriam, Priya, and Abby are fans of the boy band 4*Town.', \"Ming discovers Mei's crush on the local convenience store clerk and unintentionally embarrasses Mei in public, including in front of school bully Tyler, which leads Mei to have a vivid nightmare involving red pandas.\", 'The next morning, Mei has transformed into a large red panda.', 'She hides from her parents and discovers that she only transforms when she is in a state of high emotion.', 'Ming initially believes Mei is experiencing her first period, but finds out the truth when she further embarrasses Mei at school, causing Mei to transform and run home.', \"Ming and Jin, Mei's father, explain that Sun Yee was granted this transformation to protect her daughters, and every female family member since then has also transformed when they came of age.\", \"This has become inconvenient and dangerous, so the red panda spirit must be sealed in a talisman by a ritual on the night of the Red Moon; the next is in a month's time.\", \"Mei's friends discover her transformation but take a liking to it, and Mei finds that concentrating on them helps control the red panda within her.\", \"Ming allows Mei to resume her normal life but refuses to let Mei attend 4*Town's upcoming concert.\", \"The girls secretly raise money for the tickets at school, exploiting the popularity of Mei's red panda form.\", \"Mei agrees to attend Tyler's birthday party as the red panda to cover the last ticket.\", 'At the party, Mei discovers that the concert will actually be on her ritual night.', 'She becomes angry and attacks Tyler when he insults her family, scaring the other children.', \"Ming discovers Mei's activities and accuses her friends of corrupting and taking advantage of her.\", \"Mei fails to come to her friends' defense because she is ashamed and afraid to stand up to her mother.\", \"Mei's grandmother, Wu, and her aunts come to assist in her ritual, to Ming's dismay.\", 'As Mei prepares herself, Jin finds videos she took of herself as the red panda with her friends and tells her she should not be ashamed of this side of her.', \"During the ritual, as Mei's red panda form is about to be sealed, Mei decides to keep her powers.\", 'She abandons the ritual to attend the concert at the SkyDome with her friends, who forgive Mei for her actions at the party and discover Tyler is also a 4*Town fan.', \"During her escape from the temple, Mei inadvertently damaged her mother's talisman; an enraged Ming transforms into a -sized red panda and disrupts the concert, intending to take back Mei by force.\", \"Mei and Ming argue about Mei's independence, and Mei accidentally knocks her mother out.\", 'The rest of the family arrive to help.', 'The women break their talismans to use their red panda forms to help drag Ming into a new ritual circle.', \"Mei's friends and 4*Town join in singing to complete the ritual, sending Mei, Ming, and the other women to the astral plane.\", 'Mei reconciles with Ming and helps her mend her bond with Wu, whom Ming accidentally scarred in anger at some point years ago before sealing her red panda form.', 'The other women conceal their red pandas in new talismans, but Mei decides to keep hers, and Ming accepts that she is finding her own path.', 'Later, Mei and her family help raise money to repair the SkyDome.', \"Mei and Ming's relationship has improved, and Mei balances her temple duties-where her red panda is now an attraction-with time with friends, now including Tyler.\"]\n"
     ]
    }
   ],
   "source": [
    "f = open('Red_Movie_Synopsis.txt','r')\n",
    "text = f.read()\n",
    "tokenized_text=sent_tokenize(text)\n",
    "print(tokenized_text)"
   ]
  },
  {
   "cell_type": "markdown",
   "metadata": {},
   "source": [
    "### Tokenize lines into words"
   ]
  },
  {
   "cell_type": "code",
   "execution_count": 10,
   "metadata": {},
   "outputs": [
    {
     "name": "stdout",
     "output_type": "stream",
     "text": [
      "['In', '2002', ',', 'Meilin', '``', 'Mei', \"''\", 'Lee', 'is', 'a', '13-year-old', 'Chinese-Canadian', 'girl', 'living', 'in', 'Toronto', '.', 'She', 'helps', 'take', 'care', 'of', 'the', 'family', \"'s\", 'temple', 'dedicated', 'to', 'their', 'ancestor', ',', 'Sun', 'Yee', ',', 'and', 'works', 'to', 'make', 'her', 'strict', ',', 'overprotective', 'mother', 'Ming', 'proud', '.', 'Mei', 'hides', 'her', 'personal', 'interests', 'from', 'Ming', ',', 'such', 'as', 'the', 'fact', 'that', 'she', 'and', 'her', 'best', 'friends', 'Miriam', ',', 'Priya', ',', 'and', 'Abby', 'are', 'fans', 'of', 'the', 'boy', 'band', '4', '*', 'Town', '.', 'Ming', 'discovers', 'Mei', \"'s\", 'crush', 'on', 'the', 'local', 'convenience', 'store', 'clerk', 'and', 'unintentionally', 'embarrasses', 'Mei', 'in', 'public', ',', 'including', 'in', 'front', 'of', 'school', 'bully', 'Tyler', ',', 'which', 'leads', 'Mei', 'to', 'have', 'a', 'vivid', 'nightmare', 'involving', 'red', 'pandas', '.', 'The', 'next', 'morning', ',', 'Mei', 'has', 'transformed', 'into', 'a', 'large', 'red', 'panda', '.', 'She', 'hides', 'from', 'her', 'parents', 'and', 'discovers', 'that', 'she', 'only', 'transforms', 'when', 'she', 'is', 'in', 'a', 'state', 'of', 'high', 'emotion', '.', 'Ming', 'initially', 'believes', 'Mei', 'is', 'experiencing', 'her', 'first', 'period', ',', 'but', 'finds', 'out', 'the', 'truth', 'when', 'she', 'further', 'embarrasses', 'Mei', 'at', 'school', ',', 'causing', 'Mei', 'to', 'transform', 'and', 'run', 'home', '.', 'Ming', 'and', 'Jin', ',', 'Mei', \"'s\", 'father', ',', 'explain', 'that', 'Sun', 'Yee', 'was', 'granted', 'this', 'transformation', 'to', 'protect', 'her', 'daughters', ',', 'and', 'every', 'female', 'family', 'member', 'since', 'then', 'has', 'also', 'transformed', 'when', 'they', 'came', 'of', 'age', '.', 'This', 'has', 'become', 'inconvenient', 'and', 'dangerous', ',', 'so', 'the', 'red', 'panda', 'spirit', 'must', 'be', 'sealed', 'in', 'a', 'talisman', 'by', 'a', 'ritual', 'on', 'the', 'night', 'of', 'the', 'Red', 'Moon', ';', 'the', 'next', 'is', 'in', 'a', 'month', \"'s\", 'time', '.', 'Mei', \"'s\", 'friends', 'discover', 'her', 'transformation', 'but', 'take', 'a', 'liking', 'to', 'it', ',', 'and', 'Mei', 'finds', 'that', 'concentrating', 'on', 'them', 'helps', 'control', 'the', 'red', 'panda', 'within', 'her', '.', 'Ming', 'allows', 'Mei', 'to', 'resume', 'her', 'normal', 'life', 'but', 'refuses', 'to', 'let', 'Mei', 'attend', '4', '*', 'Town', \"'s\", 'upcoming', 'concert', '.', 'The', 'girls', 'secretly', 'raise', 'money', 'for', 'the', 'tickets', 'at', 'school', ',', 'exploiting', 'the', 'popularity', 'of', 'Mei', \"'s\", 'red', 'panda', 'form', '.', 'Mei', 'agrees', 'to', 'attend', 'Tyler', \"'s\", 'birthday', 'party', 'as', 'the', 'red', 'panda', 'to', 'cover', 'the', 'last', 'ticket', '.', 'At', 'the', 'party', ',', 'Mei', 'discovers', 'that', 'the', 'concert', 'will', 'actually', 'be', 'on', 'her', 'ritual', 'night', '.', 'She', 'becomes', 'angry', 'and', 'attacks', 'Tyler', 'when', 'he', 'insults', 'her', 'family', ',', 'scaring', 'the', 'other', 'children', '.', 'Ming', 'discovers', 'Mei', \"'s\", 'activities', 'and', 'accuses', 'her', 'friends', 'of', 'corrupting', 'and', 'taking', 'advantage', 'of', 'her', '.', 'Mei', 'fails', 'to', 'come', 'to', 'her', 'friends', \"'\", 'defense', 'because', 'she', 'is', 'ashamed', 'and', 'afraid', 'to', 'stand', 'up', 'to', 'her', 'mother', '.', 'Mei', \"'s\", 'grandmother', ',', 'Wu', ',', 'and', 'her', 'aunts', 'come', 'to', 'assist', 'in', 'her', 'ritual', ',', 'to', 'Ming', \"'s\", 'dismay', '.', 'As', 'Mei', 'prepares', 'herself', ',', 'Jin', 'finds', 'videos', 'she', 'took', 'of', 'herself', 'as', 'the', 'red', 'panda', 'with', 'her', 'friends', 'and', 'tells', 'her', 'she', 'should', 'not', 'be', 'ashamed', 'of', 'this', 'side', 'of', 'her', '.', 'During', 'the', 'ritual', ',', 'as', 'Mei', \"'s\", 'red', 'panda', 'form', 'is', 'about', 'to', 'be', 'sealed', ',', 'Mei', 'decides', 'to', 'keep', 'her', 'powers', '.', 'She', 'abandons', 'the', 'ritual', 'to', 'attend', 'the', 'concert', 'at', 'the', 'SkyDome', 'with', 'her', 'friends', ',', 'who', 'forgive', 'Mei', 'for', 'her', 'actions', 'at', 'the', 'party', 'and', 'discover', 'Tyler', 'is', 'also', 'a', '4', '*', 'Town', 'fan', '.', 'During', 'her', 'escape', 'from', 'the', 'temple', ',', 'Mei', 'inadvertently', 'damaged', 'her', 'mother', \"'s\", 'talisman', ';', 'an', 'enraged', 'Ming', 'transforms', 'into', 'a', '-sized', 'red', 'panda', 'and', 'disrupts', 'the', 'concert', ',', 'intending', 'to', 'take', 'back', 'Mei', 'by', 'force', '.', 'Mei', 'and', 'Ming', 'argue', 'about', 'Mei', \"'s\", 'independence', ',', 'and', 'Mei', 'accidentally', 'knocks', 'her', 'mother', 'out', '.', 'The', 'rest', 'of', 'the', 'family', 'arrive', 'to', 'help', '.', 'The', 'women', 'break', 'their', 'talismans', 'to', 'use', 'their', 'red', 'panda', 'forms', 'to', 'help', 'drag', 'Ming', 'into', 'a', 'new', 'ritual', 'circle', '.', 'Mei', \"'s\", 'friends', 'and', '4', '*', 'Town', 'join', 'in', 'singing', 'to', 'complete', 'the', 'ritual', ',', 'sending', 'Mei', ',', 'Ming', ',', 'and', 'the', 'other', 'women', 'to', 'the', 'astral', 'plane', '.', 'Mei', 'reconciles', 'with', 'Ming', 'and', 'helps', 'her', 'mend', 'her', 'bond', 'with', 'Wu', ',', 'whom', 'Ming', 'accidentally', 'scarred', 'in', 'anger', 'at', 'some', 'point', 'years', 'ago', 'before', 'sealing', 'her', 'red', 'panda', 'form', '.', 'The', 'other', 'women', 'conceal', 'their', 'red', 'pandas', 'in', 'new', 'talismans', ',', 'but', 'Mei', 'decides', 'to', 'keep', 'hers', ',', 'and', 'Ming', 'accepts', 'that', 'she', 'is', 'finding', 'her', 'own', 'path', '.', 'Later', ',', 'Mei', 'and', 'her', 'family', 'help', 'raise', 'money', 'to', 'repair', 'the', 'SkyDome', '.', 'Mei', 'and', 'Ming', \"'s\", 'relationship', 'has', 'improved', ',', 'and', 'Mei', 'balances', 'her', 'temple', 'duties-where', 'her', 'red', 'panda', 'is', 'now', 'an', 'attraction-with', 'time', 'with', 'friends', ',', 'now', 'including', 'Tyler', '.']\n"
     ]
    }
   ],
   "source": [
    "tokenized_word=word_tokenize(text)\n",
    "print(tokenized_word)"
   ]
  },
  {
   "cell_type": "markdown",
   "metadata": {},
   "source": [
    "### Frequency Distribution"
   ]
  },
  {
   "cell_type": "code",
   "execution_count": 11,
   "metadata": {},
   "outputs": [
    {
     "name": "stdout",
     "output_type": "stream",
     "text": [
      "<FreqDist with 290 samples and 747 outcomes>\n"
     ]
    }
   ],
   "source": [
    "from nltk.probability import FreqDist\n",
    "fdist = FreqDist(tokenized_word)\n",
    "print(fdist)"
   ]
  },
  {
   "cell_type": "code",
   "execution_count": 12,
   "metadata": {},
   "outputs": [
    {
     "data": {
      "text/plain": [
       "[(',', 39), ('Mei', 36)]"
      ]
     },
     "execution_count": 12,
     "metadata": {},
     "output_type": "execute_result"
    }
   ],
   "source": [
    "fdist.most_common(2)"
   ]
  },
  {
   "cell_type": "code",
   "execution_count": 13,
   "metadata": {},
   "outputs": [
    {
     "data": {
      "image/png": "[encoded data removed]",
      "text/plain": [
       "<Figure size 432x288 with 1 Axes>"
      ]
     },
     "metadata": {
      "needs_background": "light"
     },
     "output_type": "display_data"
    }
   ],
   "source": [
    "# Frequency Distribution Plot\n",
    "import matplotlib.pyplot as plt\n",
    "fdist.plot(30,cumulative=False)\n",
    "plt.show()"
   ]
  },
  {
   "cell_type": "markdown",
   "metadata": {},
   "source": [
    "\n",
    "# Level 2 \n",
    "\n",
    "## - Exercise 1\n",
    "\n",
    "Find the stopwords and perform stemming on your dataset.\n"
   ]
  },
  {
   "cell_type": "code",
   "execution_count": 16,
   "metadata": {},
   "outputs": [
    {
     "name": "stdout",
     "output_type": "stream",
     "text": [
      "{'again', 'so', 'we', \"shouldn't\", 'd', \"shan't\", 'by', 'o', \"don't\", 'off', 'ma', \"you're\", 'these', 'a', 'before', 'haven', \"weren't\", 'few', 'the', 'ours', 'being', 'during', 'can', 'ourselves', 'to', 'weren', 'some', 'mightn', 'into', 'yours', 'which', 'was', 'who', 'over', 'but', 'i', 'now', 'those', 'if', 'because', 'didn', \"mightn't\", \"should've\", 'both', 'where', 'their', \"mustn't\", \"doesn't\", \"you'll\", 'is', 'hadn', 'most', 'an', 's', 'after', \"you'd\", 'she', 'very', 'he', 'did', 'no', 't', \"needn't\", 'theirs', 'shan', 'me', \"wasn't\", 'yourselves', 'through', 'y', 'from', 'then', 'further', 'at', 'under', 'only', 're', 'aren', \"won't\", \"it's\", 'this', 'and', \"hadn't\", 'having', 'will', 'against', 'itself', 'should', \"hasn't\", 'up', 'couldn', 'don', 'has', 'doing', 'isn', 'hasn', 'myself', 'such', 'll', 'down', 'in', 'you', 'be', 'had', 'just', 'they', 'what', 'until', 'mustn', \"you've\", 'yourself', 'my', 'his', \"she's\", \"didn't\", 'herself', 'any', 'have', 'out', 'its', 'more', 'do', 'for', 'of', 'nor', 'him', \"aren't\", 'are', 'how', \"isn't\", 'as', 'themselves', 'it', 'about', 'between', 'when', 'needn', 'each', 'm', 'ain', 'all', 'own', 'that', 'there', 'shouldn', 'while', 'with', \"wouldn't\", 'why', 'above', 'am', 'been', 'too', 'himself', 'or', 'than', 'them', \"couldn't\", 'doesn', 'once', 'your', 'does', 'whom', 'won', 'same', 'her', \"haven't\", 'here', 'our', 'wasn', 'wouldn', 'not', 'were', 've', 'other', 'hers', 'on', \"that'll\", 'below'}\n"
     ]
    }
   ],
   "source": [
    "from nltk.corpus import stopwords\n",
    "stop_words=set(stopwords.words(\"english\"))\n",
    "print(stop_words)"
   ]
  },
  {
   "cell_type": "markdown",
   "metadata": {},
   "source": [
    "### Removing Stopwords"
   ]
  },
  {
   "cell_type": "code",
   "execution_count": 19,
   "metadata": {},
   "outputs": [
    {
     "name": "stdout",
     "output_type": "stream",
     "text": [
      "Tokenized Sentence: ['In', '2002', ',', 'Meilin', '``', 'Mei', \"''\", 'Lee', 'is', 'a', '13-year-old', 'Chinese-Canadian', 'girl', 'living', 'in', 'Toronto', '.', 'She', 'helps', 'take', 'care', 'of', 'the', 'family', \"'s\", 'temple', 'dedicated', 'to', 'their', 'ancestor', ',', 'Sun', 'Yee', ',', 'and', 'works', 'to', 'make', 'her', 'strict', ',', 'overprotective', 'mother', 'Ming', 'proud', '.', 'Mei', 'hides', 'her', 'personal', 'interests', 'from', 'Ming', ',', 'such', 'as', 'the', 'fact', 'that', 'she', 'and', 'her', 'best', 'friends', 'Miriam', ',', 'Priya', ',', 'and', 'Abby', 'are', 'fans', 'of', 'the', 'boy', 'band', '4', '*', 'Town', '.', 'Ming', 'discovers', 'Mei', \"'s\", 'crush', 'on', 'the', 'local', 'convenience', 'store', 'clerk', 'and', 'unintentionally', 'embarrasses', 'Mei', 'in', 'public', ',', 'including', 'in', 'front', 'of', 'school', 'bully', 'Tyler', ',', 'which', 'leads', 'Mei', 'to', 'have', 'a', 'vivid', 'nightmare', 'involving', 'red', 'pandas', '.', 'The', 'next', 'morning', ',', 'Mei', 'has', 'transformed', 'into', 'a', 'large', 'red', 'panda', '.', 'She', 'hides', 'from', 'her', 'parents', 'and', 'discovers', 'that', 'she', 'only', 'transforms', 'when', 'she', 'is', 'in', 'a', 'state', 'of', 'high', 'emotion', '.', 'Ming', 'initially', 'believes', 'Mei', 'is', 'experiencing', 'her', 'first', 'period', ',', 'but', 'finds', 'out', 'the', 'truth', 'when', 'she', 'further', 'embarrasses', 'Mei', 'at', 'school', ',', 'causing', 'Mei', 'to', 'transform', 'and', 'run', 'home', '.', 'Ming', 'and', 'Jin', ',', 'Mei', \"'s\", 'father', ',', 'explain', 'that', 'Sun', 'Yee', 'was', 'granted', 'this', 'transformation', 'to', 'protect', 'her', 'daughters', ',', 'and', 'every', 'female', 'family', 'member', 'since', 'then', 'has', 'also', 'transformed', 'when', 'they', 'came', 'of', 'age', '.', 'This', 'has', 'become', 'inconvenient', 'and', 'dangerous', ',', 'so', 'the', 'red', 'panda', 'spirit', 'must', 'be', 'sealed', 'in', 'a', 'talisman', 'by', 'a', 'ritual', 'on', 'the', 'night', 'of', 'the', 'Red', 'Moon', ';', 'the', 'next', 'is', 'in', 'a', 'month', \"'s\", 'time', '.', 'Mei', \"'s\", 'friends', 'discover', 'her', 'transformation', 'but', 'take', 'a', 'liking', 'to', 'it', ',', 'and', 'Mei', 'finds', 'that', 'concentrating', 'on', 'them', 'helps', 'control', 'the', 'red', 'panda', 'within', 'her', '.', 'Ming', 'allows', 'Mei', 'to', 'resume', 'her', 'normal', 'life', 'but', 'refuses', 'to', 'let', 'Mei', 'attend', '4', '*', 'Town', \"'s\", 'upcoming', 'concert', '.', 'The', 'girls', 'secretly', 'raise', 'money', 'for', 'the', 'tickets', 'at', 'school', ',', 'exploiting', 'the', 'popularity', 'of', 'Mei', \"'s\", 'red', 'panda', 'form', '.', 'Mei', 'agrees', 'to', 'attend', 'Tyler', \"'s\", 'birthday', 'party', 'as', 'the', 'red', 'panda', 'to', 'cover', 'the', 'last', 'ticket', '.', 'At', 'the', 'party', ',', 'Mei', 'discovers', 'that', 'the', 'concert', 'will', 'actually', 'be', 'on', 'her', 'ritual', 'night', '.', 'She', 'becomes', 'angry', 'and', 'attacks', 'Tyler', 'when', 'he', 'insults', 'her', 'family', ',', 'scaring', 'the', 'other', 'children', '.', 'Ming', 'discovers', 'Mei', \"'s\", 'activities', 'and', 'accuses', 'her', 'friends', 'of', 'corrupting', 'and', 'taking', 'advantage', 'of', 'her', '.', 'Mei', 'fails', 'to', 'come', 'to', 'her', 'friends', \"'\", 'defense', 'because', 'she', 'is', 'ashamed', 'and', 'afraid', 'to', 'stand', 'up', 'to', 'her', 'mother', '.', 'Mei', \"'s\", 'grandmother', ',', 'Wu', ',', 'and', 'her', 'aunts', 'come', 'to', 'assist', 'in', 'her', 'ritual', ',', 'to', 'Ming', \"'s\", 'dismay', '.', 'As', 'Mei', 'prepares', 'herself', ',', 'Jin', 'finds', 'videos', 'she', 'took', 'of', 'herself', 'as', 'the', 'red', 'panda', 'with', 'her', 'friends', 'and', 'tells', 'her', 'she', 'should', 'not', 'be', 'ashamed', 'of', 'this', 'side', 'of', 'her', '.', 'During', 'the', 'ritual', ',', 'as', 'Mei', \"'s\", 'red', 'panda', 'form', 'is', 'about', 'to', 'be', 'sealed', ',', 'Mei', 'decides', 'to', 'keep', 'her', 'powers', '.', 'She', 'abandons', 'the', 'ritual', 'to', 'attend', 'the', 'concert', 'at', 'the', 'SkyDome', 'with', 'her', 'friends', ',', 'who', 'forgive', 'Mei', 'for', 'her', 'actions', 'at', 'the', 'party', 'and', 'discover', 'Tyler', 'is', 'also', 'a', '4', '*', 'Town', 'fan', '.', 'During', 'her', 'escape', 'from', 'the', 'temple', ',', 'Mei', 'inadvertently', 'damaged', 'her', 'mother', \"'s\", 'talisman', ';', 'an', 'enraged', 'Ming', 'transforms', 'into', 'a', '-sized', 'red', 'panda', 'and', 'disrupts', 'the', 'concert', ',', 'intending', 'to', 'take', 'back', 'Mei', 'by', 'force', '.', 'Mei', 'and', 'Ming', 'argue', 'about', 'Mei', \"'s\", 'independence', ',', 'and', 'Mei', 'accidentally', 'knocks', 'her', 'mother', 'out', '.', 'The', 'rest', 'of', 'the', 'family', 'arrive', 'to', 'help', '.', 'The', 'women', 'break', 'their', 'talismans', 'to', 'use', 'their', 'red', 'panda', 'forms', 'to', 'help', 'drag', 'Ming', 'into', 'a', 'new', 'ritual', 'circle', '.', 'Mei', \"'s\", 'friends', 'and', '4', '*', 'Town', 'join', 'in', 'singing', 'to', 'complete', 'the', 'ritual', ',', 'sending', 'Mei', ',', 'Ming', ',', 'and', 'the', 'other', 'women', 'to', 'the', 'astral', 'plane', '.', 'Mei', 'reconciles', 'with', 'Ming', 'and', 'helps', 'her', 'mend', 'her', 'bond', 'with', 'Wu', ',', 'whom', 'Ming', 'accidentally', 'scarred', 'in', 'anger', 'at', 'some', 'point', 'years', 'ago', 'before', 'sealing', 'her', 'red', 'panda', 'form', '.', 'The', 'other', 'women', 'conceal', 'their', 'red', 'pandas', 'in', 'new', 'talismans', ',', 'but', 'Mei', 'decides', 'to', 'keep', 'hers', ',', 'and', 'Ming', 'accepts', 'that', 'she', 'is', 'finding', 'her', 'own', 'path', '.', 'Later', ',', 'Mei', 'and', 'her', 'family', 'help', 'raise', 'money', 'to', 'repair', 'the', 'SkyDome', '.', 'Mei', 'and', 'Ming', \"'s\", 'relationship', 'has', 'improved', ',', 'and', 'Mei', 'balances', 'her', 'temple', 'duties-where', 'her', 'red', 'panda', 'is', 'now', 'an', 'attraction-with', 'time', 'with', 'friends', ',', 'now', 'including', 'Tyler', '.']\n",
      "---------------------------------\n",
      "Filtered Sentence: ['In', '2002', ',', 'Meilin', '``', 'Mei', \"''\", 'Lee', '13-year-old', 'Chinese-Canadian', 'girl', 'living', 'Toronto', '.', 'She', 'helps', 'take', 'care', 'family', \"'s\", 'temple', 'dedicated', 'ancestor', ',', 'Sun', 'Yee', ',', 'works', 'make', 'strict', ',', 'overprotective', 'mother', 'Ming', 'proud', '.', 'Mei', 'hides', 'personal', 'interests', 'Ming', ',', 'fact', 'best', 'friends', 'Miriam', ',', 'Priya', ',', 'Abby', 'fans', 'boy', 'band', '4', '*', 'Town', '.', 'Ming', 'discovers', 'Mei', \"'s\", 'crush', 'local', 'convenience', 'store', 'clerk', 'unintentionally', 'embarrasses', 'Mei', 'public', ',', 'including', 'front', 'school', 'bully', 'Tyler', ',', 'leads', 'Mei', 'vivid', 'nightmare', 'involving', 'red', 'pandas', '.', 'The', 'next', 'morning', ',', 'Mei', 'transformed', 'large', 'red', 'panda', '.', 'She', 'hides', 'parents', 'discovers', 'transforms', 'state', 'high', 'emotion', '.', 'Ming', 'initially', 'believes', 'Mei', 'experiencing', 'first', 'period', ',', 'finds', 'truth', 'embarrasses', 'Mei', 'school', ',', 'causing', 'Mei', 'transform', 'run', 'home', '.', 'Ming', 'Jin', ',', 'Mei', \"'s\", 'father', ',', 'explain', 'Sun', 'Yee', 'granted', 'transformation', 'protect', 'daughters', ',', 'every', 'female', 'family', 'member', 'since', 'also', 'transformed', 'came', 'age', '.', 'This', 'become', 'inconvenient', 'dangerous', ',', 'red', 'panda', 'spirit', 'must', 'sealed', 'talisman', 'ritual', 'night', 'Red', 'Moon', ';', 'next', 'month', \"'s\", 'time', '.', 'Mei', \"'s\", 'friends', 'discover', 'transformation', 'take', 'liking', ',', 'Mei', 'finds', 'concentrating', 'helps', 'control', 'red', 'panda', 'within', '.', 'Ming', 'allows', 'Mei', 'resume', 'normal', 'life', 'refuses', 'let', 'Mei', 'attend', '4', '*', 'Town', \"'s\", 'upcoming', 'concert', '.', 'The', 'girls', 'secretly', 'raise', 'money', 'tickets', 'school', ',', 'exploiting', 'popularity', 'Mei', \"'s\", 'red', 'panda', 'form', '.', 'Mei', 'agrees', 'attend', 'Tyler', \"'s\", 'birthday', 'party', 'red', 'panda', 'cover', 'last', 'ticket', '.', 'At', 'party', ',', 'Mei', 'discovers', 'concert', 'actually', 'ritual', 'night', '.', 'She', 'becomes', 'angry', 'attacks', 'Tyler', 'insults', 'family', ',', 'scaring', 'children', '.', 'Ming', 'discovers', 'Mei', \"'s\", 'activities', 'accuses', 'friends', 'corrupting', 'taking', 'advantage', '.', 'Mei', 'fails', 'come', 'friends', \"'\", 'defense', 'ashamed', 'afraid', 'stand', 'mother', '.', 'Mei', \"'s\", 'grandmother', ',', 'Wu', ',', 'aunts', 'come', 'assist', 'ritual', ',', 'Ming', \"'s\", 'dismay', '.', 'As', 'Mei', 'prepares', ',', 'Jin', 'finds', 'videos', 'took', 'red', 'panda', 'friends', 'tells', 'ashamed', 'side', '.', 'During', 'ritual', ',', 'Mei', \"'s\", 'red', 'panda', 'form', 'sealed', ',', 'Mei', 'decides', 'keep', 'powers', '.', 'She', 'abandons', 'ritual', 'attend', 'concert', 'SkyDome', 'friends', ',', 'forgive', 'Mei', 'actions', 'party', 'discover', 'Tyler', 'also', '4', '*', 'Town', 'fan', '.', 'During', 'escape', 'temple', ',', 'Mei', 'inadvertently', 'damaged', 'mother', \"'s\", 'talisman', ';', 'enraged', 'Ming', 'transforms', '-sized', 'red', 'panda', 'disrupts', 'concert', ',', 'intending', 'take', 'back', 'Mei', 'force', '.', 'Mei', 'Ming', 'argue', 'Mei', \"'s\", 'independence', ',', 'Mei', 'accidentally', 'knocks', 'mother', '.', 'The', 'rest', 'family', 'arrive', 'help', '.', 'The', 'women', 'break', 'talismans', 'use', 'red', 'panda', 'forms', 'help', 'drag', 'Ming', 'new', 'ritual', 'circle', '.', 'Mei', \"'s\", 'friends', '4', '*', 'Town', 'join', 'singing', 'complete', 'ritual', ',', 'sending', 'Mei', ',', 'Ming', ',', 'women', 'astral', 'plane', '.', 'Mei', 'reconciles', 'Ming', 'helps', 'mend', 'bond', 'Wu', ',', 'Ming', 'accidentally', 'scarred', 'anger', 'point', 'years', 'ago', 'sealing', 'red', 'panda', 'form', '.', 'The', 'women', 'conceal', 'red', 'pandas', 'new', 'talismans', ',', 'Mei', 'decides', 'keep', ',', 'Ming', 'accepts', 'finding', 'path', '.', 'Later', ',', 'Mei', 'family', 'help', 'raise', 'money', 'repair', 'SkyDome', '.', 'Mei', 'Ming', \"'s\", 'relationship', 'improved', ',', 'Mei', 'balances', 'temple', 'duties-where', 'red', 'panda', 'attraction-with', 'time', 'friends', ',', 'including', 'Tyler', '.']\n"
     ]
    }
   ],
   "source": [
    "filtered_words=[]\n",
    "for w in tokenized_word:\n",
    "    if w not in stop_words:\n",
    "        filtered_words.append(w)\n",
    "print(\"Tokenized Sentence:\",tokenized_word)\n",
    "print(\"---------------------------------\")\n",
    "print(\"Filtered Sentence:\",filtered_words)"
   ]
  },
  {
   "cell_type": "markdown",
   "metadata": {},
   "source": [
    "### Stemming\n",
    "Stemming is a process of linguistic normalization, which reduces words to their word root word or chops off the derivational affixes.   \n",
    "For example, connection, connected, connecting word reduce to a common word \"connect\"."
   ]
  },
  {
   "cell_type": "code",
   "execution_count": 21,
   "metadata": {},
   "outputs": [
    {
     "name": "stdout",
     "output_type": "stream",
     "text": [
      "Filtered Sentence: ['In', '2002', ',', 'Meilin', '``', 'Mei', \"''\", 'Lee', '13-year-old', 'Chinese-Canadian', 'girl', 'living', 'Toronto', '.', 'She', 'helps', 'take', 'care', 'family', \"'s\", 'temple', 'dedicated', 'ancestor', ',', 'Sun', 'Yee', ',', 'works', 'make', 'strict', ',', 'overprotective', 'mother', 'Ming', 'proud', '.', 'Mei', 'hides', 'personal', 'interests', 'Ming', ',', 'fact', 'best', 'friends', 'Miriam', ',', 'Priya', ',', 'Abby', 'fans', 'boy', 'band', '4', '*', 'Town', '.', 'Ming', 'discovers', 'Mei', \"'s\", 'crush', 'local', 'convenience', 'store', 'clerk', 'unintentionally', 'embarrasses', 'Mei', 'public', ',', 'including', 'front', 'school', 'bully', 'Tyler', ',', 'leads', 'Mei', 'vivid', 'nightmare', 'involving', 'red', 'pandas', '.', 'The', 'next', 'morning', ',', 'Mei', 'transformed', 'large', 'red', 'panda', '.', 'She', 'hides', 'parents', 'discovers', 'transforms', 'state', 'high', 'emotion', '.', 'Ming', 'initially', 'believes', 'Mei', 'experiencing', 'first', 'period', ',', 'finds', 'truth', 'embarrasses', 'Mei', 'school', ',', 'causing', 'Mei', 'transform', 'run', 'home', '.', 'Ming', 'Jin', ',', 'Mei', \"'s\", 'father', ',', 'explain', 'Sun', 'Yee', 'granted', 'transformation', 'protect', 'daughters', ',', 'every', 'female', 'family', 'member', 'since', 'also', 'transformed', 'came', 'age', '.', 'This', 'become', 'inconvenient', 'dangerous', ',', 'red', 'panda', 'spirit', 'must', 'sealed', 'talisman', 'ritual', 'night', 'Red', 'Moon', ';', 'next', 'month', \"'s\", 'time', '.', 'Mei', \"'s\", 'friends', 'discover', 'transformation', 'take', 'liking', ',', 'Mei', 'finds', 'concentrating', 'helps', 'control', 'red', 'panda', 'within', '.', 'Ming', 'allows', 'Mei', 'resume', 'normal', 'life', 'refuses', 'let', 'Mei', 'attend', '4', '*', 'Town', \"'s\", 'upcoming', 'concert', '.', 'The', 'girls', 'secretly', 'raise', 'money', 'tickets', 'school', ',', 'exploiting', 'popularity', 'Mei', \"'s\", 'red', 'panda', 'form', '.', 'Mei', 'agrees', 'attend', 'Tyler', \"'s\", 'birthday', 'party', 'red', 'panda', 'cover', 'last', 'ticket', '.', 'At', 'party', ',', 'Mei', 'discovers', 'concert', 'actually', 'ritual', 'night', '.', 'She', 'becomes', 'angry', 'attacks', 'Tyler', 'insults', 'family', ',', 'scaring', 'children', '.', 'Ming', 'discovers', 'Mei', \"'s\", 'activities', 'accuses', 'friends', 'corrupting', 'taking', 'advantage', '.', 'Mei', 'fails', 'come', 'friends', \"'\", 'defense', 'ashamed', 'afraid', 'stand', 'mother', '.', 'Mei', \"'s\", 'grandmother', ',', 'Wu', ',', 'aunts', 'come', 'assist', 'ritual', ',', 'Ming', \"'s\", 'dismay', '.', 'As', 'Mei', 'prepares', ',', 'Jin', 'finds', 'videos', 'took', 'red', 'panda', 'friends', 'tells', 'ashamed', 'side', '.', 'During', 'ritual', ',', 'Mei', \"'s\", 'red', 'panda', 'form', 'sealed', ',', 'Mei', 'decides', 'keep', 'powers', '.', 'She', 'abandons', 'ritual', 'attend', 'concert', 'SkyDome', 'friends', ',', 'forgive', 'Mei', 'actions', 'party', 'discover', 'Tyler', 'also', '4', '*', 'Town', 'fan', '.', 'During', 'escape', 'temple', ',', 'Mei', 'inadvertently', 'damaged', 'mother', \"'s\", 'talisman', ';', 'enraged', 'Ming', 'transforms', '-sized', 'red', 'panda', 'disrupts', 'concert', ',', 'intending', 'take', 'back', 'Mei', 'force', '.', 'Mei', 'Ming', 'argue', 'Mei', \"'s\", 'independence', ',', 'Mei', 'accidentally', 'knocks', 'mother', '.', 'The', 'rest', 'family', 'arrive', 'help', '.', 'The', 'women', 'break', 'talismans', 'use', 'red', 'panda', 'forms', 'help', 'drag', 'Ming', 'new', 'ritual', 'circle', '.', 'Mei', \"'s\", 'friends', '4', '*', 'Town', 'join', 'singing', 'complete', 'ritual', ',', 'sending', 'Mei', ',', 'Ming', ',', 'women', 'astral', 'plane', '.', 'Mei', 'reconciles', 'Ming', 'helps', 'mend', 'bond', 'Wu', ',', 'Ming', 'accidentally', 'scarred', 'anger', 'point', 'years', 'ago', 'sealing', 'red', 'panda', 'form', '.', 'The', 'women', 'conceal', 'red', 'pandas', 'new', 'talismans', ',', 'Mei', 'decides', 'keep', ',', 'Ming', 'accepts', 'finding', 'path', '.', 'Later', ',', 'Mei', 'family', 'help', 'raise', 'money', 'repair', 'SkyDome', '.', 'Mei', 'Ming', \"'s\", 'relationship', 'improved', ',', 'Mei', 'balances', 'temple', 'duties-where', 'red', 'panda', 'attraction-with', 'time', 'friends', ',', 'including', 'Tyler', '.']\n",
      "---------------------------------\n",
      "Stemmed Sentence: ['in', '2002', ',', 'meilin', '``', 'mei', \"''\", 'lee', '13-year-old', 'chinese-canadian', 'girl', 'live', 'toronto', '.', 'she', 'help', 'take', 'care', 'famili', \"'s\", 'templ', 'dedic', 'ancestor', ',', 'sun', 'yee', ',', 'work', 'make', 'strict', ',', 'overprotect', 'mother', 'ming', 'proud', '.', 'mei', 'hide', 'person', 'interest', 'ming', ',', 'fact', 'best', 'friend', 'miriam', ',', 'priya', ',', 'abbi', 'fan', 'boy', 'band', '4', '*', 'town', '.', 'ming', 'discov', 'mei', \"'s\", 'crush', 'local', 'conveni', 'store', 'clerk', 'unintent', 'embarrass', 'mei', 'public', ',', 'includ', 'front', 'school', 'bulli', 'tyler', ',', 'lead', 'mei', 'vivid', 'nightmar', 'involv', 'red', 'panda', '.', 'the', 'next', 'morn', ',', 'mei', 'transform', 'larg', 'red', 'panda', '.', 'she', 'hide', 'parent', 'discov', 'transform', 'state', 'high', 'emot', '.', 'ming', 'initi', 'believ', 'mei', 'experienc', 'first', 'period', ',', 'find', 'truth', 'embarrass', 'mei', 'school', ',', 'caus', 'mei', 'transform', 'run', 'home', '.', 'ming', 'jin', ',', 'mei', \"'s\", 'father', ',', 'explain', 'sun', 'yee', 'grant', 'transform', 'protect', 'daughter', ',', 'everi', 'femal', 'famili', 'member', 'sinc', 'also', 'transform', 'came', 'age', '.', 'thi', 'becom', 'inconveni', 'danger', ',', 'red', 'panda', 'spirit', 'must', 'seal', 'talisman', 'ritual', 'night', 'red', 'moon', ';', 'next', 'month', \"'s\", 'time', '.', 'mei', \"'s\", 'friend', 'discov', 'transform', 'take', 'like', ',', 'mei', 'find', 'concentr', 'help', 'control', 'red', 'panda', 'within', '.', 'ming', 'allow', 'mei', 'resum', 'normal', 'life', 'refus', 'let', 'mei', 'attend', '4', '*', 'town', \"'s\", 'upcom', 'concert', '.', 'the', 'girl', 'secretli', 'rais', 'money', 'ticket', 'school', ',', 'exploit', 'popular', 'mei', \"'s\", 'red', 'panda', 'form', '.', 'mei', 'agre', 'attend', 'tyler', \"'s\", 'birthday', 'parti', 'red', 'panda', 'cover', 'last', 'ticket', '.', 'at', 'parti', ',', 'mei', 'discov', 'concert', 'actual', 'ritual', 'night', '.', 'she', 'becom', 'angri', 'attack', 'tyler', 'insult', 'famili', ',', 'scare', 'children', '.', 'ming', 'discov', 'mei', \"'s\", 'activ', 'accus', 'friend', 'corrupt', 'take', 'advantag', '.', 'mei', 'fail', 'come', 'friend', \"'\", 'defens', 'asham', 'afraid', 'stand', 'mother', '.', 'mei', \"'s\", 'grandmoth', ',', 'wu', ',', 'aunt', 'come', 'assist', 'ritual', ',', 'ming', \"'s\", 'dismay', '.', 'as', 'mei', 'prepar', ',', 'jin', 'find', 'video', 'took', 'red', 'panda', 'friend', 'tell', 'asham', 'side', '.', 'dure', 'ritual', ',', 'mei', \"'s\", 'red', 'panda', 'form', 'seal', ',', 'mei', 'decid', 'keep', 'power', '.', 'she', 'abandon', 'ritual', 'attend', 'concert', 'skydom', 'friend', ',', 'forgiv', 'mei', 'action', 'parti', 'discov', 'tyler', 'also', '4', '*', 'town', 'fan', '.', 'dure', 'escap', 'templ', ',', 'mei', 'inadvert', 'damag', 'mother', \"'s\", 'talisman', ';', 'enrag', 'ming', 'transform', '-size', 'red', 'panda', 'disrupt', 'concert', ',', 'intend', 'take', 'back', 'mei', 'forc', '.', 'mei', 'ming', 'argu', 'mei', \"'s\", 'independ', ',', 'mei', 'accident', 'knock', 'mother', '.', 'the', 'rest', 'famili', 'arriv', 'help', '.', 'the', 'women', 'break', 'talisman', 'use', 'red', 'panda', 'form', 'help', 'drag', 'ming', 'new', 'ritual', 'circl', '.', 'mei', \"'s\", 'friend', '4', '*', 'town', 'join', 'sing', 'complet', 'ritual', ',', 'send', 'mei', ',', 'ming', ',', 'women', 'astral', 'plane', '.', 'mei', 'reconcil', 'ming', 'help', 'mend', 'bond', 'wu', ',', 'ming', 'accident', 'scar', 'anger', 'point', 'year', 'ago', 'seal', 'red', 'panda', 'form', '.', 'the', 'women', 'conceal', 'red', 'panda', 'new', 'talisman', ',', 'mei', 'decid', 'keep', ',', 'ming', 'accept', 'find', 'path', '.', 'later', ',', 'mei', 'famili', 'help', 'rais', 'money', 'repair', 'skydom', '.', 'mei', 'ming', \"'s\", 'relationship', 'improv', ',', 'mei', 'balanc', 'templ', 'duties-wher', 'red', 'panda', 'attraction-with', 'time', 'friend', ',', 'includ', 'tyler', '.']\n"
     ]
    }
   ],
   "source": [
    "# Stemming\n",
    "ps = PorterStemmer()\n",
    "\n",
    "stemmed_words=[]\n",
    "for w in filtered_words:\n",
    "    stemmed_words.append(ps.stem(w))\n",
    "\n",
    "print(\"Filtered Sentence:\",filtered_words)\n",
    "print(\"---------------------------------\")\n",
    "print(\"Stemmed Sentence:\",stemmed_words)"
   ]
  },
  {
   "cell_type": "markdown",
   "metadata": {},
   "source": [
    "\n",
    "# Level 3\n",
    "\n",
    "## - Exercise 1\n",
    "\n",
    "Perform sentiment analysis on your set of words.\n",
    "\n",
    "We will do this later, using the formula text_blob"
   ]
  },
  {
   "cell_type": "code",
   "execution_count": 24,
   "metadata": {},
   "outputs": [],
   "source": [
    "from textblob import TextBlob"
   ]
  }
 ],
 "metadata": {
  "interpreter": {
   "hash": "494e690407c5c7c9b2fbc0a1227ada2e3d821eefed538763ba3356ad470e06f1"
  },
  "kernelspec": {
   "display_name": "Python 3.9.7 ('base')",
   "language": "python",
   "name": "python3"
  },
  "language_info": {
   "codemirror_mode": {
    "name": "ipython",
    "version": 3
   },
   "file_extension": ".py",
   "mimetype": "text/x-python",
   "name": "python",
   "nbconvert_exporter": "python",
   "pygments_lexer": "ipython3",
   "version": "3.9.7"
  },
  "orig_nbformat": 4
 },
 "nbformat": 4,
 "nbformat_minor": 2
}
